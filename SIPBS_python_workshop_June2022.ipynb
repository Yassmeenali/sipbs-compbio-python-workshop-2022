{
 "cells": [
  {
   "cell_type": "markdown",
   "id": "e16e8275",
   "metadata": {},
   "source": [
    "# SIPBS Python Workshop: June 2022\n",
    "\n",
    "Use this notebook to take notes, practise code, and refer back to in the future.\n",
    "\n",
    "Some notes and code have already been added to assist you during the workshop. Some code is incomplete and will be completed during the workshop, although feel free to give it a go in advance.\n",
    "\n",
    "## Learning Outcomes\n",
    "- Define each of the data types in Python and give examples of when they may be used\n",
    "- Assign data to variables\n",
    "- Perform basic maths operations using Python\n",
    "- Use logical and conditional operations to compare data\n",
    "- Design simple functions\n",
    "- Load and parse CSV files using `pandas`\n",
    "- Use a `numpy` array to ..\n",
    "- Use the `math` module to perform statistical analysis on a dataset\n",
    "\n",
    "## Table of Contents\n",
    "1. [Introduction](#intro)\n",
    "2. [Variables, Types and Operations](#var_type_op)\n",
    "3. [Function Calls](#function_calls)\n",
    "4. [Variables](#variables)\n",
    "5. [Data Types](#type)\n",
    "6. [Basic maths](#basic_maths)\n",
    "7. [Logical_operations](#logical_operations)\n",
    "8. [Conditional statements](#conditional_operations)\n",
    "9. [Data Handling Using `pandas`](#pandas)\n",
    "10. [Reading data into a `pandas` dataframe](#pandas_read)\n",
    "11. [Accessing data in a dataframe](#pandas_access)\n",
    "12. [Exploring data in a dataframe](#pandas_explore)\n",
    "13. [For loops and iterating throuhg columns](#for_loops)\n",
    "14. [Selecting a subset based on a template](#subset)\n",
    "15. [Visualisation of data using `pandas`](#pandas_vis)\n",
    "16. [Generating plots using `Matplotlib`](#matplot)\n",
    "\n",
    "## Introduction\n",
    "<a id=\"intro\"></a>\n",
    "\n",
    "Bioinformatics is concerned with the development of software solutions for processing and interrogating biological data to extract meaningful insights. Python is a general-purpose programming language; it can be used to design software to perform a variety of tasks from statistical analysis and automation, to robotics. Python is also widely used because it is a high-level language. Its syntax (the code we write) is closer to the language that we speak and is easily understood by humans. This also makes it a relatively easier language to learn and implement in our work."
   ]
  },
  {
   "cell_type": "markdown",
   "id": "f7ba23ac",
   "metadata": {},
   "source": [
    "## Imports\n",
    "<a id=\"imports\"></a>\n",
    "\n",
    "Run this cell to load in all required Python libraries."
   ]
  },
  {
   "cell_type": "code",
   "execution_count": 1,
   "id": "b161b88c",
   "metadata": {},
   "outputs": [],
   "source": [
    "import math\n",
    "import pandas as pd\n",
    "\n",
    "from IPython.display import Image\n",
    "from matplotlib.pyplot import subplots\n",
    "from numpy.random import randint\n",
    "from sklearn import datasets"
   ]
  },
  {
   "cell_type": "markdown",
   "id": "bfaedb5e",
   "metadata": {},
   "source": [
    "## Variables, Types and Operations\n",
    "<a id=\"var_type_op\"></a>\n",
    "\n",
    "Programs process data and produce outputs, during which data is held in the computer memory so the computer can apply our process to the data.\n",
    "\n",
    "### The `print` function\n",
    "\n",
    "The `print()` function cant take several inputs and perform a variety of tasks. Its primary function (and the one it is most used for) is to take input values and display then in the terminal."
   ]
  },
  {
   "cell_type": "code",
   "execution_count": 2,
   "id": "cd544118",
   "metadata": {},
   "outputs": [
    {
     "name": "stdout",
     "output_type": "stream",
     "text": [
      "Hello World!\n"
     ]
    }
   ],
   "source": [
    "print('Hello World!')"
   ]
  },
  {
   "cell_type": "markdown",
   "id": "6dc47022",
   "metadata": {},
   "source": [
    "The `print()` function is extremely useful for tracking the data while it is being processed. For example, we can print to terminal when we have reached a check point in our analysis. The `print()` statement is also extremely useful for troubleshooting. If you code is crashing when it hits line 50, print to the terminal what the data looks like at line 49. It is possible the data does not have the structure you thought it did and you need to adjust some previous code for the analysis to run."
   ]
  },
  {
   "cell_type": "markdown",
   "id": "cffbc51e",
   "metadata": {},
   "source": [
    "## Function calls\n",
    "<a id=\"function_calls\"></a>\n",
    "Values we pass to a function that do not require a name are called *positional arguments*. In the `print()` example above, `'Hello World!'` is a positional argument because it was not assigned a name. Some values may be assigned a name, called a *keyword argument*. In the example below, the string `' '` is assigned to the keyword `sep`."
   ]
  },
  {
   "cell_type": "code",
   "execution_count": 3,
   "id": "8af1e020",
   "metadata": {},
   "outputs": [
    {
     "name": "stdout",
     "output_type": "stream",
     "text": [
      "Hello World! How are you?\n"
     ]
    }
   ],
   "source": [
    "print('Hello World!', 'How are you?', sep=' ')"
   ]
  },
  {
   "cell_type": "markdown",
   "id": "4a0d0c13",
   "metadata": {},
   "source": [
    "If you want some practise, try printing the following phrase 'Protein Kinase C (alpha subsunit)'. Try using the `sep` keyworkd."
   ]
  },
  {
   "cell_type": "markdown",
   "id": "a5369c7c",
   "metadata": {},
   "source": [
    "## Variables\n",
    "<a id=\"variables\"></a>\n",
    "\n",
    "Variables are used to store data in the memory. You can imagine them like a little pot with a label on the front with its name. Variables have a *scope*, *name*, and *type*.\n",
    "\n",
    "### Nameing variables\n",
    "\n",
    "A varaibles name is the alias (or postal address) of the location where the  data is stored in the memory. If a variable name is reassigned, the new data overwrites the old. Try it out in the cell below. Use the `print()` function to find out what the value of variable `a` is."
   ]
  },
  {
   "cell_type": "code",
   "execution_count": 4,
   "id": "360cbb68",
   "metadata": {},
   "outputs": [],
   "source": [
    "a = 1\n",
    "a = 2"
   ]
  },
  {
   "cell_type": "markdown",
   "id": "6c80f379",
   "metadata": {},
   "source": [
    "**Varaible naming conventions:**\n",
    "    - Cannot start with a number\n",
    "    - Cannot overwrite a keyword already used in Python. For example, you cannot name a function `print`\n",
    "    - Should be meaningful. `list_of_students` is more meaningful than `a`\n",
    "\n",
    "To avoid writing extremely long variable names to accuracetly describe the data assigned to the variable, we use comments to explain what is going on. Comments are sections of code not read by the computer and are used to improve the readability of the code. The front of a comment is defined with a hastag (`#`). For example:"
   ]
  },
  {
   "cell_type": "code",
   "execution_count": 5,
   "id": "3106cf8f",
   "metadata": {},
   "outputs": [],
   "source": [
    "five_mins2sec = 5 * 60 # 5 min ⁎ 60 sec"
   ]
  },
  {
   "cell_type": "markdown",
   "id": "d6a445eb",
   "metadata": {},
   "source": [
    "## Data Types\n",
    "<a id=\"type\"></a>\n",
    "We use the `type()` function to see the data type of a variable."
   ]
  },
  {
   "cell_type": "code",
   "execution_count": 6,
   "id": "a6403229",
   "metadata": {},
   "outputs": [
    {
     "data": {
      "text/plain": [
       "str"
      ]
     },
     "execution_count": 6,
     "metadata": {},
     "output_type": "execute_result"
    }
   ],
   "source": [
    "type('I am a string')"
   ]
  },
  {
   "cell_type": "code",
   "execution_count": 7,
   "id": "ff034773",
   "metadata": {},
   "outputs": [
    {
     "data": {
      "text/plain": [
       "int"
      ]
     },
     "execution_count": 7,
     "metadata": {},
     "output_type": "execute_result"
    }
   ],
   "source": [
    "type(1)"
   ]
  },
  {
   "cell_type": "code",
   "execution_count": 8,
   "id": "015f8841",
   "metadata": {},
   "outputs": [
    {
     "data": {
      "text/plain": [
       "float"
      ]
     },
     "execution_count": 8,
     "metadata": {},
     "output_type": "execute_result"
    }
   ],
   "source": [
    "type(0.5)"
   ]
  },
  {
   "cell_type": "code",
   "execution_count": 9,
   "id": "70a8d480",
   "metadata": {},
   "outputs": [
    {
     "name": "stdout",
     "output_type": "stream",
     "text": [
      "<class 'str'>\n"
     ]
    }
   ],
   "source": [
    "print(type('I am a string'))"
   ]
  },
  {
   "cell_type": "markdown",
   "id": "4021a4b4",
   "metadata": {},
   "source": [
    "Data types are important to consider while coding, because some operations can only be performed on specific data types."
   ]
  },
  {
   "cell_type": "code",
   "execution_count": 17,
   "id": "8578dfa4",
   "metadata": {},
   "outputs": [
    {
     "ename": "FileNotFoundError",
     "evalue": "[Errno 2] No such file or directory: 'datatypes.png'",
     "output_type": "error",
     "traceback": [
      "\u001b[1;31m---------------------------------------------------------------------------\u001b[0m",
      "\u001b[1;31mFileNotFoundError\u001b[0m                         Traceback (most recent call last)",
      "Input \u001b[1;32mIn [17]\u001b[0m, in \u001b[0;36m<cell line: 1>\u001b[1;34m()\u001b[0m\n\u001b[1;32m----> 1\u001b[0m \u001b[43mImage\u001b[49m\u001b[43m(\u001b[49m\u001b[43mfilename\u001b[49m\u001b[38;5;241;43m=\u001b[39;49m\u001b[38;5;124;43m'\u001b[39;49m\u001b[38;5;124;43mdatatypes.png\u001b[39;49m\u001b[38;5;124;43m'\u001b[39;49m\u001b[43m)\u001b[49m\n",
      "File \u001b[1;32m~\\anaconda3\\lib\\site-packages\\IPython\\core\\display.py:957\u001b[0m, in \u001b[0;36mImage.__init__\u001b[1;34m(self, data, url, filename, format, embed, width, height, retina, unconfined, metadata, alt)\u001b[0m\n\u001b[0;32m    955\u001b[0m \u001b[38;5;28mself\u001b[39m\u001b[38;5;241m.\u001b[39munconfined \u001b[38;5;241m=\u001b[39m unconfined\n\u001b[0;32m    956\u001b[0m \u001b[38;5;28mself\u001b[39m\u001b[38;5;241m.\u001b[39malt \u001b[38;5;241m=\u001b[39m alt\n\u001b[1;32m--> 957\u001b[0m \u001b[38;5;28;43msuper\u001b[39;49m\u001b[43m(\u001b[49m\u001b[43mImage\u001b[49m\u001b[43m,\u001b[49m\u001b[43m \u001b[49m\u001b[38;5;28;43mself\u001b[39;49m\u001b[43m)\u001b[49m\u001b[38;5;241;43m.\u001b[39;49m\u001b[38;5;21;43m__init__\u001b[39;49m\u001b[43m(\u001b[49m\u001b[43mdata\u001b[49m\u001b[38;5;241;43m=\u001b[39;49m\u001b[43mdata\u001b[49m\u001b[43m,\u001b[49m\u001b[43m \u001b[49m\u001b[43murl\u001b[49m\u001b[38;5;241;43m=\u001b[39;49m\u001b[43murl\u001b[49m\u001b[43m,\u001b[49m\u001b[43m \u001b[49m\u001b[43mfilename\u001b[49m\u001b[38;5;241;43m=\u001b[39;49m\u001b[43mfilename\u001b[49m\u001b[43m,\u001b[49m\n\u001b[0;32m    958\u001b[0m \u001b[43m        \u001b[49m\u001b[43mmetadata\u001b[49m\u001b[38;5;241;43m=\u001b[39;49m\u001b[43mmetadata\u001b[49m\u001b[43m)\u001b[49m\n\u001b[0;32m    960\u001b[0m \u001b[38;5;28;01mif\u001b[39;00m \u001b[38;5;28mself\u001b[39m\u001b[38;5;241m.\u001b[39mwidth \u001b[38;5;129;01mis\u001b[39;00m \u001b[38;5;28;01mNone\u001b[39;00m \u001b[38;5;129;01mand\u001b[39;00m \u001b[38;5;28mself\u001b[39m\u001b[38;5;241m.\u001b[39mmetadata\u001b[38;5;241m.\u001b[39mget(\u001b[38;5;124m'\u001b[39m\u001b[38;5;124mwidth\u001b[39m\u001b[38;5;124m'\u001b[39m, {}):\n\u001b[0;32m    961\u001b[0m     \u001b[38;5;28mself\u001b[39m\u001b[38;5;241m.\u001b[39mwidth \u001b[38;5;241m=\u001b[39m metadata[\u001b[38;5;124m'\u001b[39m\u001b[38;5;124mwidth\u001b[39m\u001b[38;5;124m'\u001b[39m]\n",
      "File \u001b[1;32m~\\anaconda3\\lib\\site-packages\\IPython\\core\\display.py:327\u001b[0m, in \u001b[0;36mDisplayObject.__init__\u001b[1;34m(self, data, url, filename, metadata)\u001b[0m\n\u001b[0;32m    324\u001b[0m \u001b[38;5;28;01melif\u001b[39;00m \u001b[38;5;28mself\u001b[39m\u001b[38;5;241m.\u001b[39mmetadata \u001b[38;5;129;01mis\u001b[39;00m \u001b[38;5;28;01mNone\u001b[39;00m:\n\u001b[0;32m    325\u001b[0m     \u001b[38;5;28mself\u001b[39m\u001b[38;5;241m.\u001b[39mmetadata \u001b[38;5;241m=\u001b[39m {}\n\u001b[1;32m--> 327\u001b[0m \u001b[38;5;28;43mself\u001b[39;49m\u001b[38;5;241;43m.\u001b[39;49m\u001b[43mreload\u001b[49m\u001b[43m(\u001b[49m\u001b[43m)\u001b[49m\n\u001b[0;32m    328\u001b[0m \u001b[38;5;28mself\u001b[39m\u001b[38;5;241m.\u001b[39m_check_data()\n",
      "File \u001b[1;32m~\\anaconda3\\lib\\site-packages\\IPython\\core\\display.py:992\u001b[0m, in \u001b[0;36mImage.reload\u001b[1;34m(self)\u001b[0m\n\u001b[0;32m    990\u001b[0m \u001b[38;5;124;03m\"\"\"Reload the raw data from file or URL.\"\"\"\u001b[39;00m\n\u001b[0;32m    991\u001b[0m \u001b[38;5;28;01mif\u001b[39;00m \u001b[38;5;28mself\u001b[39m\u001b[38;5;241m.\u001b[39membed:\n\u001b[1;32m--> 992\u001b[0m     \u001b[38;5;28;43msuper\u001b[39;49m\u001b[43m(\u001b[49m\u001b[43mImage\u001b[49m\u001b[43m,\u001b[49m\u001b[38;5;28;43mself\u001b[39;49m\u001b[43m)\u001b[49m\u001b[38;5;241;43m.\u001b[39;49m\u001b[43mreload\u001b[49m\u001b[43m(\u001b[49m\u001b[43m)\u001b[49m\n\u001b[0;32m    993\u001b[0m     \u001b[38;5;28;01mif\u001b[39;00m \u001b[38;5;28mself\u001b[39m\u001b[38;5;241m.\u001b[39mretina:\n\u001b[0;32m    994\u001b[0m         \u001b[38;5;28mself\u001b[39m\u001b[38;5;241m.\u001b[39m_retina_shape()\n",
      "File \u001b[1;32m~\\anaconda3\\lib\\site-packages\\IPython\\core\\display.py:353\u001b[0m, in \u001b[0;36mDisplayObject.reload\u001b[1;34m(self)\u001b[0m\n\u001b[0;32m    351\u001b[0m \u001b[38;5;28;01mif\u001b[39;00m \u001b[38;5;28mself\u001b[39m\u001b[38;5;241m.\u001b[39mfilename \u001b[38;5;129;01mis\u001b[39;00m \u001b[38;5;129;01mnot\u001b[39;00m \u001b[38;5;28;01mNone\u001b[39;00m:\n\u001b[0;32m    352\u001b[0m     encoding \u001b[38;5;241m=\u001b[39m \u001b[38;5;28;01mNone\u001b[39;00m \u001b[38;5;28;01mif\u001b[39;00m \u001b[38;5;124m\"\u001b[39m\u001b[38;5;124mb\u001b[39m\u001b[38;5;124m\"\u001b[39m \u001b[38;5;129;01min\u001b[39;00m \u001b[38;5;28mself\u001b[39m\u001b[38;5;241m.\u001b[39m_read_flags \u001b[38;5;28;01melse\u001b[39;00m \u001b[38;5;124m\"\u001b[39m\u001b[38;5;124mutf-8\u001b[39m\u001b[38;5;124m\"\u001b[39m\n\u001b[1;32m--> 353\u001b[0m     \u001b[38;5;28;01mwith\u001b[39;00m \u001b[38;5;28;43mopen\u001b[39;49m\u001b[43m(\u001b[49m\u001b[38;5;28;43mself\u001b[39;49m\u001b[38;5;241;43m.\u001b[39;49m\u001b[43mfilename\u001b[49m\u001b[43m,\u001b[49m\u001b[43m \u001b[49m\u001b[38;5;28;43mself\u001b[39;49m\u001b[38;5;241;43m.\u001b[39;49m\u001b[43m_read_flags\u001b[49m\u001b[43m,\u001b[49m\u001b[43m \u001b[49m\u001b[43mencoding\u001b[49m\u001b[38;5;241;43m=\u001b[39;49m\u001b[43mencoding\u001b[49m\u001b[43m)\u001b[49m \u001b[38;5;28;01mas\u001b[39;00m f:\n\u001b[0;32m    354\u001b[0m         \u001b[38;5;28mself\u001b[39m\u001b[38;5;241m.\u001b[39mdata \u001b[38;5;241m=\u001b[39m f\u001b[38;5;241m.\u001b[39mread()\n\u001b[0;32m    355\u001b[0m \u001b[38;5;28;01melif\u001b[39;00m \u001b[38;5;28mself\u001b[39m\u001b[38;5;241m.\u001b[39murl \u001b[38;5;129;01mis\u001b[39;00m \u001b[38;5;129;01mnot\u001b[39;00m \u001b[38;5;28;01mNone\u001b[39;00m:\n\u001b[0;32m    356\u001b[0m     \u001b[38;5;66;03m# Deferred import\u001b[39;00m\n",
      "\u001b[1;31mFileNotFoundError\u001b[0m: [Errno 2] No such file or directory: 'datatypes.png'"
     ]
    }
   ],
   "source": [
    "Image(filename='datatypes.png')"
   ]
  },
  {
   "cell_type": "markdown",
   "id": "9fa590f2",
   "metadata": {},
   "source": [
    "We can convert the data type of a variable. Explore the code in the block below (feel free to add additional code blocks to explore the code further, and you may find the `print()` function helpful too), to see how data types can be converted. Are all types of data interchangeable? Can you convert a number to a string? What happens when you convert a `bool` to an `int` (interger), `str` (string) or `float`?"
   ]
  },
  {
   "cell_type": "code",
   "execution_count": null,
   "id": "b8c4d1f8",
   "metadata": {},
   "outputs": [],
   "source": [
    "a = 'I am a string'\n",
    "b = 10\n",
    "c = 50.55"
   ]
  },
  {
   "cell_type": "code",
   "execution_count": null,
   "id": "109fe934",
   "metadata": {},
   "outputs": [],
   "source": [
    "# convert a to an int, a float and a bool. What happens?"
   ]
  },
  {
   "cell_type": "code",
   "execution_count": null,
   "id": "2f6b0687",
   "metadata": {},
   "outputs": [],
   "source": [
    "# convert b to an int, a float and a bool. What happens?"
   ]
  },
  {
   "cell_type": "code",
   "execution_count": null,
   "id": "9868da4b",
   "metadata": {},
   "outputs": [],
   "source": [
    "# convert c to an int, a float and a bool. What happens?"
   ]
  },
  {
   "cell_type": "markdown",
   "id": "906c31e9",
   "metadata": {},
   "source": [
    "## Basic maths\n",
    "<a id=\"basic_maths\"></a>\n",
    "\n",
    "Basic maths opertions are performed using a similar syntax to what is used in MS Excel."
   ]
  },
  {
   "cell_type": "code",
   "execution_count": 12,
   "id": "db701b5f",
   "metadata": {},
   "outputs": [],
   "source": [
    "a = 10\n",
    "b = 2"
   ]
  },
  {
   "cell_type": "code",
   "execution_count": 13,
   "id": "73de2526",
   "metadata": {},
   "outputs": [
    {
     "data": {
      "text/plain": [
       "12"
      ]
     },
     "execution_count": 13,
     "metadata": {},
     "output_type": "execute_result"
    }
   ],
   "source": [
    "a + b"
   ]
  },
  {
   "cell_type": "code",
   "execution_count": 14,
   "id": "8523e640",
   "metadata": {},
   "outputs": [
    {
     "data": {
      "text/plain": [
       "8"
      ]
     },
     "execution_count": 14,
     "metadata": {},
     "output_type": "execute_result"
    }
   ],
   "source": [
    "a - b"
   ]
  },
  {
   "cell_type": "code",
   "execution_count": 15,
   "id": "6586189b",
   "metadata": {},
   "outputs": [
    {
     "data": {
      "text/plain": [
       "20"
      ]
     },
     "execution_count": 15,
     "metadata": {},
     "output_type": "execute_result"
    }
   ],
   "source": [
    "a * b"
   ]
  },
  {
   "cell_type": "code",
   "execution_count": 16,
   "id": "cdecc6aa",
   "metadata": {},
   "outputs": [
    {
     "data": {
      "text/plain": [
       "5"
      ]
     },
     "execution_count": 16,
     "metadata": {},
     "output_type": "execute_result"
    }
   ],
   "source": [
    "int(a/b) "
   ]
  },
  {
   "cell_type": "markdown",
   "id": "7956b9a2",
   "metadata": {},
   "source": [
    "How would you edit the cell above so that `a / b` produces an interger not a decimal point? Check your answer below."
   ]
  },
  {
   "cell_type": "code",
   "execution_count": null,
   "id": "19aa3059",
   "metadata": {},
   "outputs": [],
   "source": []
  },
  {
   "cell_type": "markdown",
   "id": "f2a22f12",
   "metadata": {},
   "source": [
    "The built in `round()` function can be used to apply our standard rules for rounding numbers."
   ]
  },
  {
   "cell_type": "code",
   "execution_count": null,
   "id": "72ba22eb",
   "metadata": {},
   "outputs": [],
   "source": [
    "round(100/3)"
   ]
  },
  {
   "cell_type": "code",
   "execution_count": null,
   "id": "643ab904",
   "metadata": {},
   "outputs": [],
   "source": [
    "round(75.891)"
   ]
  },
  {
   "cell_type": "markdown",
   "id": "2eef1752",
   "metadata": {},
   "source": [
    "The `round()` function takes two positional arguments:\n",
    "1. The number you want to round\n",
    "2. The number of digits to round to. Default = 0"
   ]
  },
  {
   "cell_type": "code",
   "execution_count": null,
   "id": "17d5ea01",
   "metadata": {},
   "outputs": [],
   "source": [
    "print(round(100/3))\n",
    "print(round(100/3, 1))\n",
    "print(round(100/3, 2))"
   ]
  },
  {
   "cell_type": "markdown",
   "id": "39b83f3e",
   "metadata": {},
   "source": [
    "If you always want to round up, or round down we use the `math.float()` and `math.ceil()` functions.\n",
    "\n",
    "The `math.ceil()` function returns the ceiling of its argument, which is the nearest integer greater than or equal to that argument’s value.\n",
    "\n",
    "The `math.floor()` function returns the floor value of its argument, which is the nearest integer less than or equal to that argument’s value"
   ]
  },
  {
   "cell_type": "code",
   "execution_count": null,
   "id": "cc7e1145",
   "metadata": {},
   "outputs": [],
   "source": [
    "print(round(100/3))\n",
    "print(math.ceil(100/3))\n",
    "print(math.floor(100/3))"
   ]
  },
  {
   "cell_type": "markdown",
   "id": "b7af4dd8",
   "metadata": {},
   "source": [
    "Alternatively to using `math.floor()` we can use the Python floor quotient:"
   ]
  },
  {
   "cell_type": "code",
   "execution_count": null,
   "id": "38be8206",
   "metadata": {},
   "outputs": [],
   "source": [
    "print(math.floor(100/3))\n",
    "print(100 // 3)"
   ]
  },
  {
   "cell_type": "markdown",
   "id": "4f882888",
   "metadata": {},
   "source": [
    "If we want the remainder after a division we use `%`"
   ]
  },
  {
   "cell_type": "code",
   "execution_count": null,
   "id": "fc5c1efe",
   "metadata": {},
   "outputs": [],
   "source": [
    "print(100 / 3)\n",
    "print(100 % 3)"
   ]
  },
  {
   "cell_type": "markdown",
   "id": "79734ed7",
   "metadata": {},
   "source": [
    "Powers are performend using `**`"
   ]
  },
  {
   "cell_type": "code",
   "execution_count": null,
   "id": "2c4631d7",
   "metadata": {},
   "outputs": [],
   "source": [
    "a ** b"
   ]
  },
  {
   "cell_type": "code",
   "execution_count": null,
   "id": "3e80cf59",
   "metadata": {},
   "outputs": [],
   "source": [
    "3 ** 2 "
   ]
  },
  {
   "cell_type": "markdown",
   "id": "7a717dc7",
   "metadata": {},
   "source": [
    "## Logical Operations\n",
    "<a id=\"logical_operations\"></a>\n",
    "\n",
    "This section lines up with lesson 7 in `software carpentry` [Making Choices](https://swcarpentry.github.io/python-novice-inflammation/07-cond/index.html).\n",
    "\n",
    "An operation may involve a comparison. The result of such operations is either `True` or `False`. This is known as the *Boolean* or `bool` data type. Computers store `True` and `False` as 1 and 0, respectively.\n",
    "\n",
    "Opertions involving Boolean results are called logical operations.\n",
    "\n",
    "Boolean operations in Python are defined as follows:"
   ]
  },
  {
   "cell_type": "code",
   "execution_count": null,
   "id": "fd2106ff",
   "metadata": {},
   "outputs": [],
   "source": [
    "# Equivalents\n",
    "a = 10\n",
    "b = 10\n",
    "a == b"
   ]
  },
  {
   "cell_type": "code",
   "execution_count": null,
   "id": "02e0f542",
   "metadata": {},
   "outputs": [],
   "source": [
    "# Equivalents\n",
    "a = 10\n",
    "b = 20\n",
    "a == b"
   ]
  },
  {
   "cell_type": "code",
   "execution_count": null,
   "id": "d95605f6",
   "metadata": {},
   "outputs": [],
   "source": [
    "# Are not equivalents\n",
    "a = 10\n",
    "b = 20\n",
    "a != b"
   ]
  },
  {
   "cell_type": "code",
   "execution_count": null,
   "id": "2772df33",
   "metadata": {},
   "outputs": [],
   "source": [
    "# Greater than\n",
    "a = 10\n",
    "b = 20\n",
    "a > b"
   ]
  },
  {
   "cell_type": "code",
   "execution_count": null,
   "id": "9fdd97f9",
   "metadata": {},
   "outputs": [],
   "source": [
    "# Either greater or equal \n",
    "a >= b"
   ]
  },
  {
   "cell_type": "code",
   "execution_count": null,
   "id": "243fc7b4",
   "metadata": {},
   "outputs": [],
   "source": [
    "# Less than\n",
    "# Greater than\n",
    "a = 10\n",
    "b = 450\n",
    "a < b"
   ]
  },
  {
   "cell_type": "code",
   "execution_count": null,
   "id": "1dc3c98c",
   "metadata": {},
   "outputs": [],
   "source": [
    "# Less than or equal \n",
    "a <= b"
   ]
  },
  {
   "cell_type": "code",
   "execution_count": null,
   "id": "9e6aa0c2",
   "metadata": {},
   "outputs": [],
   "source": [
    "# Between\n",
    "5 < a < 20"
   ]
  },
  {
   "cell_type": "markdown",
   "id": "a7bf4922",
   "metadata": {},
   "source": [
    "To test if a statement (e.g. `5 > 3`) is not try, we add the `not` keyword before the statement."
   ]
  },
  {
   "cell_type": "code",
   "execution_count": null,
   "id": "43362a38",
   "metadata": {},
   "outputs": [],
   "source": [
    "not 5 > 3"
   ]
  },
  {
   "cell_type": "markdown",
   "id": "b5d24470",
   "metadata": {},
   "source": [
    "Try it yourself: Without using `not`, determine if `y_1` is *not equal* to `y_2`. Display the result of your tests and store it in the variable `inequivalent`."
   ]
  },
  {
   "cell_type": "code",
   "execution_count": null,
   "id": "3e5e0ec8",
   "metadata": {},
   "outputs": [],
   "source": [
    "y_1 = 10\n",
    "y_2 = 20"
   ]
  },
  {
   "cell_type": "markdown",
   "id": "b5f5282f",
   "metadata": {},
   "source": [
    "### Combining logical operations\n",
    "\n",
    "Logical operations can be combined using the conjunction `and` and disjunction `or` to create more complex logics:"
   ]
  },
  {
   "cell_type": "code",
   "execution_count": null,
   "id": "ddfdea7b",
   "metadata": {},
   "outputs": [],
   "source": [
    "c = 50\n",
    "d = 60\n",
    "\n",
    "# Either smaller or equal \n",
    "small_equ_test = c < d or c == d\n",
    "print(small_equ_test)"
   ]
  },
  {
   "cell_type": "markdown",
   "id": "84be8c60",
   "metadata": {},
   "source": [
    "Try it yourself. Set if `c` is greater than or equal to `d`"
   ]
  },
  {
   "cell_type": "code",
   "execution_count": null,
   "id": "f3b98794",
   "metadata": {},
   "outputs": [],
   "source": []
  },
  {
   "cell_type": "code",
   "execution_count": null,
   "id": "c5f1dfd2",
   "metadata": {},
   "outputs": [],
   "source": [
    "## Greater but not greater than \n",
    "c > d and not c > 55"
   ]
  },
  {
   "cell_type": "code",
   "execution_count": null,
   "id": "f81e4408",
   "metadata": {},
   "outputs": [],
   "source": [
    "# Either equal or not between\n",
    "c == d or not d < c < 100"
   ]
  },
  {
   "cell_type": "markdown",
   "id": "1bb921fc",
   "metadata": {},
   "source": [
    "Write the code to test if `c` is equal to `d` and `c` is between `30` and `70`"
   ]
  },
  {
   "cell_type": "code",
   "execution_count": null,
   "id": "c8f0b95e",
   "metadata": {},
   "outputs": [],
   "source": []
  },
  {
   "cell_type": "markdown",
   "id": "5da58e7b",
   "metadata": {},
   "source": [
    "Sometimes, it may help to breakdown complex operations across multiple lines, or use parenthesis to make them easier to read and write."
   ]
  },
  {
   "cell_type": "code",
   "execution_count": null,
   "id": "3cb8ff56",
   "metadata": {},
   "outputs": [],
   "source": [
    "a = 40\n",
    "b = 30\n",
    "a == b or (5 <= a or b < 20 and a < b)"
   ]
  },
  {
   "cell_type": "code",
   "execution_count": null,
   "id": "c0227dd2",
   "metadata": {},
   "outputs": [],
   "source": [
    "a == b or (5 <= a or b < 20) and a < b "
   ]
  },
  {
   "cell_type": "code",
   "execution_count": null,
   "id": "12ae1185",
   "metadata": {},
   "outputs": [],
   "source": [
    "a == b or 5 <= a or (b < 20 and a < b) "
   ]
  },
  {
   "cell_type": "markdown",
   "id": "60d99266",
   "metadata": {},
   "source": [
    "All notations are essentially the same and only vary in terms\n",
    "of their collective results as defined using parenthesis. Always remember that in a logical\n",
    "statement:\n",
    "- The statement in the parenthesis do not have precedent over the rest of the state, they merely define an independent part of the operation whose result should be evaluated separately\n",
    "- The precedence is estabilished in order from left to right\n",
    "- In disjunctive statements (e.g. `a < 5 or b > 5`), if the first part is true (e.g. `a < 5`) is correct the second part (e.g. `b > 5`) is *not* checked\n",
    "- In conjunction statements (e.g. `a < 5 and b > 5`), the second statement is only processed if the first part is `True`"
   ]
  },
  {
   "cell_type": "markdown",
   "id": "2f88a77a",
   "metadata": {},
   "source": [
    "## Conditional Statements\n",
    "<a id=\"conditional_operations\"></a>\n",
    "\n",
    "To implement conditional statements we use three syntaxes:\n",
    "1. `if`\n",
    "2. `elif`\n",
    "3. `else`\n",
    "\n",
    "**All conditional statements start with `if`.** We intiate the statemetn using `if`, followed by the condition, and ending with a colon. Below our condition we write what operation we wish to perform if the condition is met (don't forget to indend the code underneath our condition, do this using the tab key or 4 spaces)."
   ]
  },
  {
   "cell_type": "code",
   "execution_count": null,
   "id": "9df2ee6f",
   "metadata": {},
   "outputs": [],
   "source": [
    "students_present = 15\n",
    "\n",
    "# Conditional statement:\n",
    "if students_present > 10: # Initiation\n",
    "    # Directive (must be indented).\n",
    "    print('More than 10 students are present.')"
   ]
  },
  {
   "cell_type": "markdown",
   "id": "165e7d77",
   "metadata": {},
   "source": [
    "Sometimes we want to check for multiple alternative conditions. To this we add each alternative condition as an `elif` condition after our initial `if` statement. We can implement as many `elif` statements as we like.\n",
    "\n",
    "*`elif` is short for 'else if'. For example, `if` condition 1 `else if` condition 2*."
   ]
  },
  {
   "cell_type": "code",
   "execution_count": null,
   "id": "906dca3e",
   "metadata": {},
   "outputs": [],
   "source": [
    "students_present = -2\n",
    "\n",
    "if students_present > 10:  # initiate our condition testing\n",
    "    print('More than 10 students are present.')\n",
    "\n",
    "elif 0 < students_present < 10:  # first alternative condition\n",
    "    print('Less than 10 students are present.')\n",
    "\n",
    "elif students_present < 0:  # second alternative condition\n",
    "    print('There cannot be a negative number of students. Revise the input.')"
   ]
  },
  {
   "cell_type": "markdown",
   "id": "d0c97b00",
   "metadata": {},
   "source": [
    "To add a catchall for when none of our provided conditions are true, we add an `else` statement: `if` condition 1, else if `elif` condition 2, `else` perform operation."
   ]
  },
  {
   "cell_type": "code",
   "execution_count": null,
   "id": "cc58bb21",
   "metadata": {},
   "outputs": [],
   "source": [
    "students_present = 0\n",
    "\n",
    "if students_present > 10:  # initiate our condition testing\n",
    "    print('More than 10 students are present.')\n",
    "\n",
    "elif 0 < students_present < 10:  # first alternative condition\n",
    "    print('Less than 10 students are present.')\n",
    "\n",
    "elif students_present < 0:  # second alternative condition\n",
    "    print('There cannot be a negative number of students. Revise the input.')\n",
    "    \n",
    "else:  # if none of the above are true\n",
    "    print('There is no one!')\n"
   ]
  },
  {
   "cell_type": "markdown",
   "id": "89bac663",
   "metadata": {},
   "source": [
    "### Exercises\n",
    "\n",
    "Complete the following exercises. [Here](https://swcarpentry.github.io/python-novice-inflammation/07-cond/index.html#how-many-paths) is the original software carpentry lesson page with the exercises, hints and solutions."
   ]
  },
  {
   "cell_type": "markdown",
   "id": "9714f028",
   "metadata": {},
   "source": [
    "**How Many Paths**\n",
    "\n",
    "Consider this code\n",
    "\n",
    "```\n",
    "if 4 > 5:\n",
    "    print('A')\n",
    "elif 4 == 5:\n",
    "    print('B')\n",
    "elif 4 < 5:\n",
    "    print('C')\n",
    "```\n",
    "\n",
    "Which of the following would be printed if you were to run this code? Why did you pick this answer?\n",
    "1. A\n",
    "2. B\n",
    "3. C\n",
    "4. B and C"
   ]
  },
  {
   "cell_type": "markdown",
   "id": "255ecf54",
   "metadata": {},
   "source": [
    "**What is Truth?**  \n",
    "`True` and `False` booleans are not the only values in Python that are true and false. Any value can be used in an `if` or `elif`. After reading and running the code below, explain what the rule is for which values are considered true and which are considered false."
   ]
  },
  {
   "cell_type": "code",
   "execution_count": null,
   "id": "ce39085f",
   "metadata": {},
   "outputs": [],
   "source": [
    "if '':\n",
    "    print('empty string is true')\n",
    "if 'word':\n",
    "    print('word is true')\n",
    "if []:\n",
    "    print('empty list is true')\n",
    "if [1, 2, 3]:\n",
    "    print('non-empty list is true')\n",
    "if 0:\n",
    "    print('zero is true')\n",
    "if 1:\n",
    "    print('one is true')"
   ]
  },
  {
   "cell_type": "markdown",
   "id": "37e62e5d",
   "metadata": {},
   "source": [
    "**That's Not Not What I Meant**   \n",
    "Sometimes it is useful to check whether some condition is not true. The Boolean operator `not` can do this explicitly. After reading and running the code below, write some `if` statements that use `not` to test the rule that you formulated in the previous challenge."
   ]
  },
  {
   "cell_type": "code",
   "execution_count": null,
   "id": "0332236b",
   "metadata": {},
   "outputs": [],
   "source": [
    "if not '':\n",
    "    print('empty string is not true')\n",
    "if not 'word':\n",
    "    print('word is not true')\n",
    "if not not True:\n",
    "    print('not not True is true')"
   ]
  },
  {
   "cell_type": "markdown",
   "id": "caaafd70",
   "metadata": {},
   "source": [
    "**Close Enough**  \n",
    "Write some conditions that print `True` if the variable `a` is within 10% of the variable `b` and False otherwise. Compare your implementation with your partner’s: do you get the same answer for all possible pairs of numbers?\n",
    "\n",
    "[Hint](https://swcarpentry.github.io/python-novice-inflammation/07-cond/index.html#hint)  \n",
    "[Solution 1](https://swcarpentry.github.io/python-novice-inflammation/07-cond/index.html#solution-1)  \n",
    "[Solution 2](https://swcarpentry.github.io/python-novice-inflammation/07-cond/index.html#solution-2)  "
   ]
  },
  {
   "cell_type": "markdown",
   "id": "6366c21b",
   "metadata": {},
   "source": [
    "**In-Place Operators**  \n",
    "Python (and most other languages in the C family) provides [in-place operators](https://swcarpentry.github.io/python-novice-inflammation/reference.html#in-place-operators) that work like this:  \n",
    "\n",
    "```\n",
    "x = 1  # original value\n",
    "x += 1 # add one to x, assigning result back to x\n",
    "x *= 3 # multiply x by 3\n",
    "print(x)\n",
    "\n",
    ">>> 6\n",
    "```\n",
    "\n",
    "Write some code that sums the positive and negative numbers in a list separately, using in-place operators. Do you think the result is more or less readable than writing the same without in-place operators?\n",
    "\n",
    "[Solution](https://swcarpentry.github.io/python-novice-inflammation/07-cond/index.html#solution-1)"
   ]
  },
  {
   "cell_type": "markdown",
   "id": "3614396d",
   "metadata": {},
   "source": [
    "## Data Handling Using `pandas`\n",
    "<a id=\"pandas\"></a>\n",
    "\n",
    "Aims:\n",
    "- Import data set as dataframe\n",
    "- Inspect data frame and access data\n",
    "- Produce an overview of data features\n",
    "- Create data plots using matplotlib\n",
    "\n",
    "## Reading data into a `pandas` dataframe\n",
    "<a id=\"pandas_read\"></a>\n",
    "\n",
    "The small practice data file for this section is called 'everleys_data.csv', which is stored in the `data` directory. It can be accessed using the relative path `data/everleys_data.csv`.\n",
    "\n",
    "The file 'everleys_data.csv' contains blood concentrations of calcium and sodium ions from 17 patients with Everley's syndrome. The data are taken from a [BMJ statistics tutorial](https://www.bmj.com/about-bmj/resources-readers/publications/statistics-square-one/7-t-tests). The data are stored as comma-separated values (csv), two values for each patient.\n",
    "\n",
    "The Python package `pandas` is widely used to process and explore data that is contained within a dataframe. `Matplotlib` is a Python package that is designed to work with `pandas` to produce plots.\n",
    "\n",
    "**Note:** `pandas` is often imported as `pd`.\n",
    "```\n",
    "import pandas as pd\n",
    "```\n",
    "This has been done in this notebook.\n",
    "\n",
    "To load in a CSV file we use the `read_csv` function from `pandas`. To tell the computer where we are calling the `read_csv` function from, we call `pandas` then the function of interest, as so:`"
   ]
  },
  {
   "cell_type": "code",
   "execution_count": null,
   "id": "06c6a6da",
   "metadata": {},
   "outputs": [],
   "source": [
    "df = pd.read_csv(\"data/everleys_data.csv\") "
   ]
  },
  {
   "cell_type": "markdown",
   "id": "bcaa3b03",
   "metadata": {},
   "source": [
    "This code uses the `read_csv` function from Pandas to read data from a data file. The location of the data file is specified within quotes by the relative path to the subfolder 'data' followed by the file name.\n",
    "\n",
    "After execution of the code, the data are contained in a variable called `df`. This is a structure referred to as a Pandas _DataFrame_. \n",
    "\n",
    "> A [__Pandas dataframe__](https://pandas.pydata.org/pandas-docs/stable/user_guide/dsintro.html#dataframe) is a 2-dimensional labeled data structure with columns of potentially different types. You can think of it as a spreadsheet. \n",
    "\n",
    "\n",
    "To see the contents we can simply call the variable `df`. *Note, if you are writing a Python script you would need to use the `print()` function*"
   ]
  },
  {
   "cell_type": "code",
   "execution_count": null,
   "id": "f10c7369",
   "metadata": {},
   "outputs": [],
   "source": [
    "df"
   ]
  },
  {
   "cell_type": "markdown",
   "id": "2f7ce5dc",
   "metadata": {},
   "source": [
    "How do the results differ is you use `print()` to display the dataframe?"
   ]
  },
  {
   "cell_type": "code",
   "execution_count": null,
   "id": "7c725d49",
   "metadata": {},
   "outputs": [],
   "source": []
  },
  {
   "cell_type": "markdown",
   "id": "ae52a15a",
   "metadata": {},
   "source": [
    "For large data sets, the function `head` is a convenient way to get a feel of the dataset."
   ]
  },
  {
   "cell_type": "code",
   "execution_count": null,
   "id": "d13d88e3",
   "metadata": {},
   "outputs": [],
   "source": [
    "df.head()"
   ]
  },
  {
   "cell_type": "markdown",
   "id": "65a88d73",
   "metadata": {},
   "source": [
    "Without any input argument, this displays the first five data lines of the dataframe. You can specify alter the number of rows displayed by including a single integer as argument, e.g. `head(10)`.\n",
    "\n",
    "Print the first 3 rows of the dataframe."
   ]
  },
  {
   "cell_type": "code",
   "execution_count": null,
   "id": "564771b5",
   "metadata": {},
   "outputs": [],
   "source": []
  },
  {
   "cell_type": "markdown",
   "id": "c7ddcc30",
   "metadata": {},
   "source": [
    "If you feel there are too many decimal places in the default view, you can restrict their number by using the `round` function:"
   ]
  },
  {
   "cell_type": "code",
   "execution_count": null,
   "id": "dc63c71a",
   "metadata": {},
   "outputs": [],
   "source": [
    "df.head().round(2)"
   ]
  },
  {
   "cell_type": "markdown",
   "id": "72a87948",
   "metadata": {},
   "source": [
    "While we can see how many rows there are in a dataframe when we display the whole data frame and look at the last index, there is a convenient way to obtain the number directly:"
   ]
  },
  {
   "cell_type": "code",
   "execution_count": null,
   "id": "36cf021b",
   "metadata": {},
   "outputs": [],
   "source": [
    "no_rows = len(df)\n",
    "\n",
    "print('Data frame has', no_rows, 'rows')\n"
   ]
  },
  {
   "cell_type": "markdown",
   "id": "b99f71cb",
   "metadata": {},
   "source": [
    "To see the names of all the dataframe columns, we call the `columns` attribute of our dataframe:"
   ]
  },
  {
   "cell_type": "code",
   "execution_count": null,
   "id": "c58f3bf9",
   "metadata": {},
   "outputs": [],
   "source": [
    "column_labels = df.columns\n",
    "\n",
    "print(column_labels)\n"
   ]
  },
  {
   "cell_type": "markdown",
   "id": "411ec5cb",
   "metadata": {},
   "source": [
    "Looking at how we counted the number of rows, how could we count the number of columns?"
   ]
  },
  {
   "cell_type": "code",
   "execution_count": null,
   "id": "f5cd59ad",
   "metadata": {},
   "outputs": [],
   "source": [
    "column_num = 0\n",
    "print(f\"The dataframe contains {column_num}\")"
   ]
  },
  {
   "cell_type": "markdown",
   "id": "a9b4d29f",
   "metadata": {},
   "source": [
    "And if you want to have both the number of the rows and the columns together, use `shape`. Shape returns a tuple of two numbers, first the number of rows, then the number of columns."
   ]
  },
  {
   "cell_type": "code",
   "execution_count": null,
   "id": "352a62bc",
   "metadata": {},
   "outputs": [],
   "source": [
    "df_shape = df.shape\n",
    "\n",
    "print('Data frame has', df_shape[0], 'rows and',df_shape[1],  'columns')\n"
   ]
  },
  {
   "cell_type": "markdown",
   "id": "f514b850",
   "metadata": {},
   "source": [
    "Notice that `shape` (like `columns`) is not followed by round parenthesis. It is not a function that can take arguments. Technically, `shape` is a 'property' of the dataframe.\n",
    "\n",
    "To find out what data type is contained in each of the columns, us `dtypes`, another 'property':"
   ]
  },
  {
   "cell_type": "code",
   "execution_count": null,
   "id": "5bf0536d",
   "metadata": {},
   "outputs": [],
   "source": [
    "df.dtypes"
   ]
  },
  {
   "cell_type": "markdown",
   "id": "a3185c81",
   "metadata": {},
   "source": [
    "In this case, both columns contain floating point (decimal) numbers."
   ]
  },
  {
   "cell_type": "markdown",
   "id": "14d3cc31",
   "metadata": {},
   "source": [
    "**Read in a dataframe**  \n",
    "Load the `load_data.csv` file in the `data` directory in to a DataFrame. It contains data that can be used for the assessment of loan applications. \n",
    "\n",
    "Why is it better to assign the new data to a variable name other than `df`?\n",
    "\n",
    "Display the first ten rows of the Loan data set to see its contents."
   ]
  },
  {
   "cell_type": "code",
   "execution_count": null,
   "id": "4aeb1270",
   "metadata": {},
   "outputs": [],
   "source": []
  },
  {
   "cell_type": "markdown",
   "id": "5a15ff03",
   "metadata": {},
   "source": [
    "A dataframe can contain different types of data. What are the data types included in our new dataframe?"
   ]
  },
  {
   "cell_type": "code",
   "execution_count": null,
   "id": "0abd423c",
   "metadata": {},
   "outputs": [],
   "source": []
  },
  {
   "cell_type": "markdown",
   "id": "9193345c",
   "metadata": {},
   "source": [
    "## Accessing data in a DataFrame\n",
    "<a id=\"pandas_access\"></a>\n",
    "\n",
    "If a datafile is large and you only want to check the format of data in a specific column, you can limit the display to that column.\n",
    "\n",
    "To access data contained in a specific column of a dataframe, we can use a similar convention as in a Python dictionary, treating the column names as 'keys'. E.g. to show all rows in column 'Calcium', use:"
   ]
  },
  {
   "cell_type": "code",
   "execution_count": null,
   "id": "9da84645",
   "metadata": {},
   "outputs": [],
   "source": [
    "df['calcium']"
   ]
  },
  {
   "cell_type": "markdown",
   "id": "4c7f39f1",
   "metadata": {},
   "source": [
    "To access individual rows of a column we use two pairs of square brackets. first pair of square brackets refers to a column and the second pair refers to the rows."
   ]
  },
  {
   "cell_type": "code",
   "execution_count": null,
   "id": "2ae81d92",
   "metadata": {},
   "outputs": [],
   "source": [
    "df['calcium'][0:3]"
   ]
  },
  {
   "cell_type": "markdown",
   "id": "c25b147d",
   "metadata": {},
   "source": [
    "Display the first three rows of the second column"
   ]
  },
  {
   "cell_type": "code",
   "execution_count": null,
   "id": "cd74d902",
   "metadata": {},
   "outputs": [],
   "source": []
  },
  {
   "cell_type": "markdown",
   "id": "5c3df267",
   "metadata": {},
   "source": [
    "To access non-contiguous elements, for example to retrieve rows 3, 5 and 7, we place the row indicies within an additional pair of square brackets."
   ]
  },
  {
   "cell_type": "code",
   "execution_count": null,
   "id": "b74c19de",
   "metadata": {},
   "outputs": [],
   "source": [
    "df['calcium'][[1, 3, 7]]"
   ]
  },
  {
   "cell_type": "markdown",
   "id": "e7e2d0ce",
   "metadata": {},
   "source": [
    "Another possibility to index and slice a dataframe is the use of the 'index location' or `iloc` property. It refers first to **rows and then to columns** by index, all within a single pair of brackets. For example, to get all rows (done by providing not cutt off values, i.e. `:`) of the first column (index `0`), you use:"
   ]
  },
  {
   "cell_type": "code",
   "execution_count": null,
   "id": "d4c5b820",
   "metadata": {},
   "outputs": [],
   "source": [
    "df.iloc[:, 0]"
   ]
  },
  {
   "cell_type": "markdown",
   "id": "f47f5897",
   "metadata": {},
   "source": [
    "To display only the first three calcium concentrations, you use slicing, remembering that the upper bound is excluded):"
   ]
  },
  {
   "cell_type": "code",
   "execution_count": null,
   "id": "b9a3ebf5",
   "metadata": {},
   "outputs": [],
   "source": [
    "df.iloc[0:3, 0]"
   ]
  },
  {
   "cell_type": "markdown",
   "id": "19606bd2",
   "metadata": {},
   "source": [
    "To access non-consecutive values, we can use a pair of square brackets within the pair of square brackets: "
   ]
  },
  {
   "cell_type": "code",
   "execution_count": null,
   "id": "5b46b83e",
   "metadata": {},
   "outputs": [],
   "source": [
    "df.iloc[[2, 4, 7], 0]"
   ]
  },
  {
   "cell_type": "markdown",
   "id": "a14eaf56",
   "metadata": {},
   "source": [
    "What is the result of running the block below, and why?"
   ]
  },
  {
   "cell_type": "code",
   "execution_count": null,
   "id": "d36805bf",
   "metadata": {},
   "outputs": [],
   "source": [
    "df.iloc[[2, 4, 7], :]"
   ]
  },
  {
   "cell_type": "markdown",
   "id": "1e4eee93",
   "metadata": {},
   "source": [
    "If we wanted every 3rd row in the column, we could write out each row index by hand. However, if our dataframe has hunderds of rows this would take an extremely long time. Alternatively, we can provide a third number to are colon series which defined our rows of interest. After defining the range of the rows of interest, we provide a second colon followed by an interger that indicates the stepsize of our sequence."
   ]
  },
  {
   "cell_type": "code",
   "execution_count": null,
   "id": "3e90bd9d",
   "metadata": {},
   "outputs": [],
   "source": [
    "df.iloc[:18:2, :]"
   ]
  },
  {
   "cell_type": "markdown",
   "id": "b734bbad",
   "metadata": {},
   "source": [
    "Display the calcium and sodium concentrations of all patients except the first."
   ]
  },
  {
   "cell_type": "code",
   "execution_count": null,
   "id": "c434bd17",
   "metadata": {},
   "outputs": [],
   "source": []
  },
  {
   "cell_type": "markdown",
   "id": "751527c9",
   "metadata": {},
   "source": [
    "__Search for missing values__\n",
    "\n",
    "Some tables contain missing entries. You can check a dataframe for such missing entries. If no missing entry is found, the function `isnull` will return `False`."
   ]
  },
  {
   "cell_type": "code",
   "execution_count": null,
   "id": "caa3969d",
   "metadata": {},
   "outputs": [],
   "source": [
    "df.isnull().any()"
   ]
  },
  {
   "cell_type": "markdown",
   "id": "8c9777fe",
   "metadata": {},
   "source": [
    "**Find NaN in dataframe**\n",
    "\n",
    "In the Loan data set, check the entry 'Self-employed' for ID LP001059. It shows how a missing value is represented as 'NaN' (not a number).\n",
    "\n",
    "Verify that the output of `isnull` in this case is `True`"
   ]
  },
  {
   "cell_type": "markdown",
   "id": "42b14b2a",
   "metadata": {},
   "source": [
    "## Exploring data in a dataframe\n",
    "<a id=\"pandas_explore\"></a>\n",
    "\n",
    "`pandas` allows us to perform some basic statistical operations to explore the data in our dataframe.\n",
    "\n",
    "To get a summary of basic data features use the function `describe`:"
   ]
  },
  {
   "cell_type": "code",
   "execution_count": null,
   "id": "448c0cea",
   "metadata": {},
   "outputs": [],
   "source": [
    "description = df.describe()\n",
    "\n",
    "description"
   ]
  },
  {
   "cell_type": "markdown",
   "id": "cd849928",
   "metadata": {},
   "source": [
    "The `describe` function produces a new dataframe (here called 'descrition') that contains the number of samples, the mean, the standard deviation, minimum, 25th, 50th, 75th  percentile, and the maximum value for each column of the data.\n",
    "\n",
    "Note that the indices of the rows have now been replaced by strings. To access rows, it is possible to refer to those names using the `loc` property. E.g. to access the mean of the calcium concentrations from the description, each of the following is valid:"
   ]
  },
  {
   "cell_type": "code",
   "execution_count": null,
   "id": "3aae27b5",
   "metadata": {},
   "outputs": [],
   "source": [
    "# Option 1\n",
    "description.loc['mean']['calcium']\n",
    "\n",
    "# Option 2\n",
    "description.loc['mean'][0]\n",
    "\n",
    "# Option 3\n",
    "description['calcium']['mean']\n",
    "\n",
    "# Option 4\n",
    "description['calcium'][1]"
   ]
  },
  {
   "cell_type": "markdown",
   "id": "aea112fa",
   "metadata": {},
   "source": [
    "Use your own .csv data set (or one of the ones provided) to practice.\n",
    "1. Read it into a dataframe\n",
    "2. Check its header\n",
    "3. Access indivdual values or sets of values\n",
    "4. Create a statistics using `describe` and check for missing values using `.isnull`"
   ]
  },
  {
   "cell_type": "markdown",
   "id": "485c5323",
   "metadata": {},
   "source": [
    "## For loops, and iterating through columns\n",
    "<a id=\"for_loops\"></a>\n",
    "\n",
    "We employ iterations and loops in programming to perform repetitive operations. A repetitive operation is a reference to one or several defined operations that are repeated multiple times.\n",
    "\n",
    "For instance, suppose we have a list of 5 numbers as follows:"
   ]
  },
  {
   "cell_type": "code",
   "execution_count": null,
   "id": "27791043",
   "metadata": {},
   "outputs": [],
   "source": [
    "numbers = [-3, -2, 5, 0, 12]  # this is a list, they are defined using squared brackets"
   ]
  },
  {
   "cell_type": "markdown",
   "id": "b5ea558f",
   "metadata": {},
   "source": [
    "Now we would like to multiply each number by 2. Based on what we have learned thus far, this is how we would approach this problem:"
   ]
  },
  {
   "cell_type": "code",
   "execution_count": null,
   "id": "508090ad",
   "metadata": {},
   "outputs": [],
   "source": [
    "numbers[0] *= 2\n",
    "numbers[1] *= 2\n",
    "numbers[2] *= 2\n",
    "numbers[3] *= 2\n",
    "numbers[4] *= 2\n",
    "print(numbers)"
   ]
  },
  {
   "cell_type": "markdown",
   "id": "c7cbcd5e",
   "metadata": {},
   "source": [
    "Whilst this does the job, it is clearly very tedious and repetitive. In addition to that, if we\n",
    "have an array of several thousand members, this approach becomes infeasible.\n",
    "\n",
    "The process of multiplying individual members of our array with 2 is a very simple example\n",
    "of a repetitive operations.\n",
    "\n",
    "There are some universal tools for iterations that exist in all programming languages: `for` and `while`. In this section we will discuss `for` loops.\n",
    "\n",
    "The implemention of `for` loops in Python iterates through an existing iterable variable - e.g. an array, list or str, retrieving values one by one, from the begining to end.\n",
    "\n",
    "In Python, iterable is a term used in reference to variables that can be iterated through. Any variable type\n",
    "that can be used in a `for` loop without any modifications is therefore considered an iterable."
   ]
  },
  {
   "cell_type": "code",
   "execution_count": null,
   "id": "daa4c5b6",
   "metadata": {},
   "outputs": [],
   "source": [
    "numbers = [3, 5, 6.3, 9, 15, 3.4]\n",
    "\n",
    "for item in numbers:\n",
    "    item *= 2\n",
    "    # Display the item to see the results:\n",
    "    print(item)"
   ]
  },
  {
   "cell_type": "markdown",
   "id": "4a62a446",
   "metadata": {},
   "source": [
    "`for` loops are always initialised as: `for variable_name in an_array:`, the code underneath is always indented, as with conditional statements.\n",
    "\n",
    "Using the provided list, write a for loop to display each item in `peptides` alongisde its index (the position in the list) and its length. Display the results in the following format: 'Peptide XXX at index X contains X amino acids'"
   ]
  },
  {
   "cell_type": "code",
   "execution_count": null,
   "id": "51a4caab",
   "metadata": {},
   "outputs": [],
   "source": [
    "peptides = [\n",
    "    \"GYSAR\",\n",
    "    \"HILNEKRILQAID\",\n",
    "    \"DNSYYLY\",\n",
    "]"
   ]
  },
  {
   "cell_type": "markdown",
   "id": "5fafc3b9",
   "metadata": {},
   "source": [
    "When using a `for` loop we can reference other varaible that have already been defined outsdie of the loop block:"
   ]
  },
  {
   "cell_type": "code",
   "execution_count": null,
   "id": "c1f7b499",
   "metadata": {},
   "outputs": [],
   "source": [
    "numbers = [3, 5, 6.3, 9, 11, 15, 17.2]\n",
    "counter = 0\n",
    "\n",
    "for item in numbers:\n",
    "    item *= 2\n",
    "    \n",
    "    print('Iteration number', counter, ':', item)\n",
    "    \n",
    "    counter += 1"
   ]
  },
  {
   "cell_type": "markdown",
   "id": "59f20966",
   "metadata": {},
   "source": [
    "It is also possible to define new variables inside the loop, but remember that the value of any variables defined inside a\n",
    "loop is reset in each iteration cycle:"
   ]
  },
  {
   "cell_type": "code",
   "execution_count": null,
   "id": "5f3b556f",
   "metadata": {},
   "outputs": [],
   "source": [
    "numbers = [3, 5, 6.3, 9, 11, 15, 17.2]\n",
    "counter = 0\n",
    "\n",
    "for item in numbers:\n",
    "    new_value = item * 2\n",
    "    \n",
    "    print('Iteration number', counter, ':', item, '⁎ 2 =', new_value)\n",
    "    \n",
    "    counter += 1"
   ]
  },
  {
   "cell_type": "markdown",
   "id": "b2fd0343",
   "metadata": {},
   "source": [
    "Write a `for` loop to display the values of a `tuple` (similar to a list, but defined with curly brackets) such that each protein is displayed on a new line and follows the phrase 'Protein Kinase X:' for example 'Protein Kinase 1: PKA'"
   ]
  },
  {
   "cell_type": "code",
   "execution_count": null,
   "id": "ec311a8a",
   "metadata": {},
   "outputs": [],
   "source": [
    "# define tuple or proteins\n",
    "protein_kinases = ('PKA', 'PKC', 'MPAK', 'GSK3', 'CK1')"
   ]
  },
  {
   "cell_type": "markdown",
   "id": "0fc33dc8",
   "metadata": {},
   "source": [
    "It is very nice to be able to manipulate and display the values of an array, but in the majority of cases, we need to retain the new values and use them later. We have two options:\n",
    "1. create a new list to store our values\n",
    "2. replace the existing values with the new values\n",
    "\n",
    "To add items to a list, we call our list of interest and add new items using the `append()` method."
   ]
  },
  {
   "cell_type": "code",
   "execution_count": null,
   "id": "2c202b66",
   "metadata": {},
   "outputs": [],
   "source": [
    "numbers = [-4, 0, 0.3, 5]\n",
    "new_numbers = list()\n",
    "\n",
    "for value in numbers:\n",
    "    squared = value ** 2\n",
    "    new_numbers.append(squared)\n",
    "\n",
    "print('numbers:', numbers)\n",
    "print('new_numbers:', new_numbers)"
   ]
  },
  {
   "cell_type": "markdown",
   "id": "4cf7181d",
   "metadata": {},
   "source": [
    "Write a for loop in which you determine the length of each sequence in peptides, and then store the results as a list\n",
    "of tuple items as follows: `[('SEQUENCE_1', X), ('SEQUENCE_2', X), ...]`"
   ]
  },
  {
   "cell_type": "code",
   "execution_count": null,
   "id": "4a28e748",
   "metadata": {},
   "outputs": [],
   "source": [
    "peptides = [\n",
    "    \"GYSAR\",\n",
    "    \"HILNEKRILQAID\",\n",
    "    \"DNSYYLY\",\n",
    "]"
   ]
  },
  {
   "cell_type": "markdown",
   "id": "91967916",
   "metadata": {},
   "source": [
    "When replacing the old values with the new values we are essentially reading value of an item in a list, manipulating the value, putting the value back into its original place and thus replacing the existing/old item.\n",
    "\n",
    "To perform item assignment; we can implement a variable to represent the current iteration cycle in our\n",
    "`for` loop. We do so by initialising the variable with a value of 0, and adding\n",
    "1 to its value at the end of each cycle. We can then use that variable as an index in each\n",
    "iteration cycle:"
   ]
  },
  {
   "cell_type": "code",
   "execution_count": null,
   "id": "32bce1a4",
   "metadata": {},
   "outputs": [],
   "source": [
    "numbers = [-4, 0, 0.5, 5]\n",
    "\n",
    "# Variable representing the\n",
    "# index (iteration cycle):\n",
    "index = 0\n",
    "\n",
    "for value in numbers:\n",
    "    new_value = value ** 5\n",
    "\n",
    "    # Putting it back into\n",
    "    # the original array:\n",
    "    numbers[index] = new_value\n",
    "    13\n",
    "    # Adding one to the index for\n",
    "    # the next iteration cycle:\n",
    "    index += 1\n",
    "    \n",
    "print(numbers)"
   ]
  },
  {
   "cell_type": "markdown",
   "id": "6bdfd746",
   "metadata": {},
   "source": [
    "We can use conditional statements within `for` loops to account for and handle different situations. Suppose we want to find the smallest value within a lis of numbers using a `for` loop:"
   ]
  },
  {
   "cell_type": "code",
   "execution_count": null,
   "id": "f34fe442",
   "metadata": {},
   "outputs": [],
   "source": [
    "numbers = [7, 16, 0.3, 0, 15, -4, 5, 3, 15]\n",
    "\n",
    "minimum = numbers[0]\n",
    "\n",
    "for value in numbers:\n",
    "    if value < minimum:\n",
    "        minimum = value\n",
    "\n",
    "print('The minimum value is:', minimum)"
   ]
  },
  {
   "cell_type": "markdown",
   "id": "db740b4e",
   "metadata": {},
   "source": [
    "Using the provided list called `peptides`, use a `for` loop and a conditional statement to find and display the sequences in `peptides` that contain the amino acid serine (S) in the following format: 'Found S in XXX'.\n",
    "   \n",
    "The Python command `in` is used to check if `a` is `in` b, for example:"
   ]
  },
  {
   "cell_type": "code",
   "execution_count": null,
   "id": "d21facd8",
   "metadata": {},
   "outputs": [],
   "source": [
    "a = 1\n",
    "b = [1,2,3]\n",
    "a in b"
   ]
  },
  {
   "cell_type": "code",
   "execution_count": null,
   "id": "4773bc9c",
   "metadata": {},
   "outputs": [],
   "source": []
  },
  {
   "cell_type": "markdown",
   "id": "a9b9617c",
   "metadata": {},
   "source": [
    "### Iterating through columns\n",
    "\n",
    "Now we can apply what we have learnt about for loops to our data. We know how to access all data in a dataframe and how to get a summary statistics over each column. \n",
    "\n",
    "Here is code to iterate through the columns and access the first two concentrations: "
   ]
  },
  {
   "cell_type": "code",
   "execution_count": null,
   "id": "cada7ce8",
   "metadata": {},
   "outputs": [],
   "source": [
    "for col in df:\n",
    "    \n",
    "    print(df[col][0:2])"
   ]
  },
  {
   "cell_type": "markdown",
   "id": "67fc3d40",
   "metadata": {},
   "source": [
    "As a slightly more complex example, we access the median ('50%') of each column in the description and add it to a list:"
   ]
  },
  {
   "cell_type": "code",
   "execution_count": null,
   "id": "5c1ae0e8",
   "metadata": {},
   "outputs": [],
   "source": [
    "conc_medians = []\n",
    "\n",
    "for col in df:\n",
    "    conc_medians.append(df[col].describe()['50%'])\n",
    "\n",
    "print('The columns are: ', list(df.columns))\n",
    "print('The medians are: ', conc_medians)"
   ]
  },
  {
   "cell_type": "markdown",
   "id": "f02d8905",
   "metadata": {},
   "source": [
    "conc_medians = list()\n",
    "\n",
    "for col in df:\n",
    "    \n",
    "    conc_medians.append(df[col].describe()['50%'])\n",
    "\n",
    "print('The columns are: ', list(df.columns))\n",
    "print('The medians are: ', conc_medians)"
   ]
  },
  {
   "cell_type": "markdown",
   "id": "bd04973b",
   "metadata": {},
   "source": [
    "## Selecting a subset based on a template\n",
    "<a id=\"subset\"></a>\n",
    "\n",
    "An analysis of a data set may need to be done on part of the data. This can often be formulated by using a logical condition which specifies the required subset.\n",
    "\n",
    "For this we will assume that some of the data are labelled '0' and some are labelled '1'. Let us therefore see how to add a new column to our Evereleys data frame which contains the (in this case arbitrary) labels.\n",
    "\n",
    "First we randomly create as many labels as we have rows in the data frame. We can use the `randint` function which we import from 'numpy.random' (which was imported in the [Import](#import) section of this notebook. `randint` in its simple form takes two arguments. First the upper bound of the integer needed, where by default it starts from zero. As Python is exclusive on the upper bound, providing '2' will thus yield either '0' or '1' only. "
   ]
  },
  {
   "cell_type": "code",
   "execution_count": null,
   "id": "aa34d1fa",
   "metadata": {},
   "outputs": [],
   "source": [
    "no_rows = len(df)\n",
    "\n",
    "randomLabel = randint(2, size=no_rows)\n",
    "\n",
    "print('Number of rows:  ', no_rows)\n",
    "print('Number of Labels:', len(randomLabel))\n",
    "print('Labels:          ', randomLabel)\n"
   ]
  },
  {
   "cell_type": "markdown",
   "id": "1f6be2c2",
   "metadata": {},
   "source": [
    "Note how we obtain the number of rows (18) using `len` and do not put it directly into the code. \n",
    "\n",
    "Now we create a new data column in our `df` dataframe which contains the labels. To create a new column, you can simply refer to a column name that does not yet exist and assign values to it. Let us call it 'gender', assuming that '0' represents male and '1' represents female. \n",
    "\n",
    "As gender specification can include more than two labels, try to create a column with more than two randomly assigned labels e.g. (0, 1, 2)."
   ]
  },
  {
   "cell_type": "code",
   "execution_count": null,
   "id": "4acd659d",
   "metadata": {},
   "outputs": [],
   "source": [
    "df['gender'] = randomLabel\n",
    "\n",
    "df.head()"
   ]
  },
  {
   "cell_type": "markdown",
   "id": "ef1bb503",
   "metadata": {},
   "source": [
    "Now we can use the information contained in 'gender' to filter the data by gender. To achieve this, we use a conditional statement. Let us check which of the rows are labelled as '1':"
   ]
  },
  {
   "cell_type": "code",
   "execution_count": null,
   "id": "08a8d99d",
   "metadata": {},
   "outputs": [],
   "source": [
    "df['gender'] == 1"
   ]
  },
  {
   "cell_type": "markdown",
   "id": "86bfd93f",
   "metadata": {},
   "source": [
    "If we assign the result of the conditional statement (Boolean True or False) to a variable, then this variable can act as a template to filter the data. If we call the data frame with that variable, we will only get the rows where the condition was found to be True:"
   ]
  },
  {
   "cell_type": "code",
   "execution_count": null,
   "id": "dff122a4",
   "metadata": {},
   "outputs": [],
   "source": [
    "df_female = df['gender'] == 1\n",
    "\n",
    "df[df_female]"
   ]
  },
  {
   "cell_type": "markdown",
   "id": "b7e23c82",
   "metadata": {},
   "source": [
    "Using the Boolean, we only pick the rows that are labelled '1' and thus get a subset of the data according to the label. "
   ]
  },
  {
   "cell_type": "markdown",
   "id": "422800c9",
   "metadata": {},
   "source": [
    "**Using a template**\n",
    "\n",
    "Modify the code to calculate the number of samples labelled 0 and check the number of rows of that subset."
   ]
  },
  {
   "cell_type": "code",
   "execution_count": null,
   "id": "edddc036",
   "metadata": {},
   "outputs": [],
   "source": []
  },
  {
   "cell_type": "markdown",
   "id": "875b19b5",
   "metadata": {},
   "source": [
    "Using your own csv file, or one of the other files provided, subset your data and calculate the mean on a specific column within your data subset."
   ]
  },
  {
   "cell_type": "code",
   "execution_count": null,
   "id": "7a4581c8",
   "metadata": {},
   "outputs": [],
   "source": []
  },
  {
   "cell_type": "markdown",
   "id": "76f2aff7",
   "metadata": {},
   "source": [
    "# Visualisation of data using `pandas`\n",
    "<a id=\"pandas_vis\"></a>\n",
    "\n",
    "It is easy to see from the numbers that the concentrations of sodium are much higher than that of calcium. However, to also compare the medians, percentiles and the spread of the data it is better to use visualisation. \n",
    "\n",
    "The simplest way of visualisation is to use Pandas functionality which offers direct ways of plotting. Here is an example where a boxplot is created for each column:\n"
   ]
  },
  {
   "cell_type": "code",
   "execution_count": null,
   "id": "c3e2f5c0",
   "metadata": {},
   "outputs": [],
   "source": [
    "df.boxplot();"
   ]
  },
  {
   "cell_type": "markdown",
   "id": "bbf85bdb",
   "metadata": {},
   "source": [
    "By default, boxplots are shown for all columns if no further argument is given to the function (empty round parenthesis). As the calcium plot is rather squeezed we may wish to see it individually. This can be done by specifying the calcium column as an argument:"
   ]
  },
  {
   "cell_type": "code",
   "execution_count": null,
   "id": "364b0f21",
   "metadata": {},
   "outputs": [],
   "source": [
    "# Boxplot of calcium results\n",
    "df.boxplot(column='calcium');"
   ]
  },
  {
   "cell_type": "markdown",
   "id": "5d6e9fb3",
   "metadata": {},
   "source": [
    "Look at the documentation for plotting data using `pandas`, found [here](https://pandas.pydata.org/pandas-docs/stable/user_guide/visualization.html#:~:text=Plotting%20with%20missing%20data%20%C2%B6%20%20%20,%20Drop%20NaNs%20%206%20more%20rows%20). Using a dataset of choice, generate some of the graphs using the other plot types. What are the types of plots than pandas can produce?"
   ]
  },
  {
   "cell_type": "code",
   "execution_count": null,
   "id": "6326b6fc",
   "metadata": {},
   "outputs": [],
   "source": []
  },
  {
   "cell_type": "markdown",
   "id": "16995164",
   "metadata": {},
   "source": [
    "# Generating plots using `Matplotlib`\n",
    "<a id=\"matplot\"></a>\n",
    "\n",
    "> [__Matplotlib__](https://matplotlib.org) is a comprehensive library for creating static, animated, and interactive visualizations in Python.\n",
    "\n",
    "In the previous section we used `pandas` as an easy way to create some basic plots directly from the data within our dataframe. \n",
    "\n",
    "It is based on the library Matplotlib and specifically uses the __pyplot library__. For simplicity, the code is put in a convenient Pandas function. \n",
    "\n",
    "However, we are going to use __Matplotlib__ provides far more options for customising our plots.\n",
    "\n",
    "We will be using the `subplots` funcion from the [`pyplot` library](https://matplotlib.org/stable/api/pyplot_summary.html) (which was imported in the [Imports](#imports) section of this notebook.\n",
    "\n",
    "To use `subplots` we first set up a figure environment (in the example below we call it `fig`) and an empty coordinate system (called `ax` in the example below). \n",
    "\n",
    "The plot is then generated by calling one of the many methods available in Matplotlib. We apply it to the coordinate system 'ax'. Here we generate a boxplot by calling the `boxplot` method of `ax`."
   ]
  },
  {
   "cell_type": "code",
   "execution_count": null,
   "id": "4cd51ba0",
   "metadata": {},
   "outputs": [],
   "source": [
    "fig, ax = subplots()\n",
    "ax.boxplot(df['calcium'])"
   ]
  },
  {
   "cell_type": "markdown",
   "id": "45655f2c",
   "metadata": {},
   "source": [
    "`ax` has several properties that several methods and attributes we can call in order to cusomise our plot. We can call the `set_title` method to add a title to our plot: "
   ]
  },
  {
   "cell_type": "code",
   "execution_count": null,
   "id": "f404e729",
   "metadata": {},
   "outputs": [],
   "source": [
    "fig, ax = subplots()\n",
    "ax.boxplot(df['calcium'])\n",
    "ax.set_title('Boxplot of Everley\\'s Calcium')"
   ]
  },
  {
   "cell_type": "markdown",
   "id": "784c93c6",
   "metadata": {},
   "source": [
    "Above we generated a single plot. As its name indicates, `subplot` allows us to generate a single figure with multiple subplots.\n",
    "\n",
    "Here is an example to create two boxplots next to each other. The keyword arguments to use is `ncols` which is the number of figures per row. 'ncols=2' indicates that you want to have two plots next to each other. "
   ]
  },
  {
   "cell_type": "code",
   "execution_count": null,
   "id": "0e39df8c",
   "metadata": {},
   "outputs": [],
   "source": [
    "fig, ax = subplots(ncols=2)\n",
    "\n",
    "ax[0].boxplot(df['calcium'])\n",
    "ax[0].set_title('Calcium')\n",
    "\n",
    "ax[1].boxplot(df['sodium'])\n",
    "ax[1].set_title('Sodium');"
   ]
  },
  {
   "cell_type": "markdown",
   "id": "8cab9581",
   "metadata": {},
   "source": [
    "The keyword `nrows` can be used in the same manner to define the number of rows of subplots. `nrows` and `ncols` can be applied at the same time.\n",
    "\n",
    "Reproduce the plot above with one subplot on top of each other, instead of side-by-side."
   ]
  },
  {
   "cell_type": "code",
   "execution_count": null,
   "id": "14f96f67",
   "metadata": {},
   "outputs": [],
   "source": []
  },
  {
   "cell_type": "markdown",
   "id": "4d565c96",
   "metadata": {},
   "source": [
    "If you prefer to have the boxplots of both columns in a single figure, that can also be done. Simply pass all the data to be contained within the plot to the plot function (in this case `boxplot`)."
   ]
  },
  {
   "cell_type": "code",
   "execution_count": null,
   "id": "b38071a2",
   "metadata": {},
   "outputs": [],
   "source": [
    "fig, ax = subplots(ncols=1, nrows=1)\n",
    "ax.boxplot([df['calcium'], df['sodium']], positions=[1, 2])\n",
    "ax.set_title('Boxplot of Calcium (left) and Sodium (right)')"
   ]
  },
  {
   "cell_type": "markdown",
   "id": "440d6f4f",
   "metadata": {},
   "source": [
    "**Boxplot from Loan data**\n",
    "\n",
    "Plot the boxplots of the 'ApplicantIncome' and the 'CoapplicantIncome' in the Loan data using the above code. "
   ]
  },
  {
   "cell_type": "code",
   "execution_count": null,
   "id": "922de46c",
   "metadata": {},
   "outputs": [],
   "source": []
  },
  {
   "cell_type": "markdown",
   "id": "a5e52e57",
   "metadata": {},
   "source": [
    "So far we have looked at boxplots. The principles used to generate the boxplots are applied to the other methods of plotting data from `matplotlib`.\n",
    "\n",
    "Another good overview is the histogram: Containers or 'bins' are created over the range of values found within a column and the count of the values for each bin is plotted on the vertical axis.\n",
    "\n",
    "Instead of calling the `boxplot` method, to plot a histogram we call the `hist` method.\n",
    "\n",
    "We can also call the `set` method and use the `xlabel` and `ylabel` keywords to label the axes."
   ]
  },
  {
   "cell_type": "code",
   "execution_count": null,
   "id": "cd28f168",
   "metadata": {},
   "outputs": [],
   "source": [
    "fig, ax = subplots(ncols=2, nrows=1)\n",
    "\n",
    "ax[0].hist(df['calcium'])\n",
    "ax[0].set(xlabel='Calcium', ylabel='Count');\n",
    "\n",
    "ax[1].hist(df['sodium'])\n",
    "ax[1].set(xlabel='Sodium', ylabel='Count');\n",
    "\n",
    "fig.suptitle('Histograms of Everley concentrations', fontsize=15);"
   ]
  },
  {
   "cell_type": "markdown",
   "id": "e4c8c7a3",
   "metadata": {},
   "source": [
    "The plots use the default bin size of 10 bins over our entire ranage of data. The number of bins in the histogram can be changed using the keyword argument `bins`:"
   ]
  },
  {
   "cell_type": "code",
   "execution_count": null,
   "id": "83cd1ebd",
   "metadata": {},
   "outputs": [],
   "source": [
    "fig, ax = subplots(ncols=2, nrows=1)\n",
    "\n",
    "ax[0].hist(df['calcium'], bins=5)\n",
    "ax[0].set(xlabel='Calcium, 5 bins', ylabel='Count');\n",
    "\n",
    "ax[1].hist(df['calcium'], bins=15)\n",
    "ax[1].set(xlabel='Calcium, 15 bins', ylabel='Count');\n",
    "fig.suptitle('Histograms with Different Binnings', fontsize=16);"
   ]
  },
  {
   "cell_type": "markdown",
   "id": "1556a1a8",
   "metadata": {},
   "source": [
    "Sometime labels are not placed well. To correct for the placement of the labels and the title, you can use \n",
    "`tight_layout` on the figure:"
   ]
  },
  {
   "cell_type": "code",
   "execution_count": null,
   "id": "142d588b",
   "metadata": {},
   "outputs": [],
   "source": [
    "fig, ax = subplots(ncols=2, nrows=1)\n",
    "\n",
    "ax[0].hist(df['calcium'], bins=5)\n",
    "ax[0].set(xlabel='Calcium, 5 bins', ylabel='Count');\n",
    "\n",
    "ax[1].hist(df['calcium'], bins=15)\n",
    "ax[1].set(xlabel='Calcium, 15 bins', ylabel='Count');\n",
    "fig.suptitle('Histograms with Different Binnings', fontsize=16);\n",
    "fig.tight_layout()\n"
   ]
  },
  {
   "cell_type": "markdown",
   "id": "fde2a226",
   "metadata": {},
   "source": [
    "**Colours**\n",
    "\n",
    "By default `matplotlib` generates all plots in blue. To change the colour of the plot, simply use the `color` keyword followed by the name of the colour when the plot method (e.g. `boxplot`) is called. A list of all colour names in `matplotlib` are listed in the [documentation](https://matplotlib.org/stable/gallery/color/named_colors.html)."
   ]
  },
  {
   "cell_type": "code",
   "execution_count": null,
   "id": "1477eb0d",
   "metadata": {},
   "outputs": [],
   "source": [
    "fig, ax = subplots(ncols=2, nrows=1)\n",
    "\n",
    "ax[0].hist(df['calcium'], bins=5, color='darkblue')\n",
    "ax[0].set(xlabel='Calcium, 5 bins', ylabel='Count');\n",
    "\n",
    "ax[1].hist(df['calcium'], bins=15, color='maroon')\n",
    "ax[1].set(xlabel='Calcium, 15 bins', ylabel='Count');\n",
    "fig.suptitle('Histograms with Different Binnings', fontsize=16);\n",
    "fig.tight_layout()"
   ]
  },
  {
   "cell_type": "markdown",
   "id": "3cad3b33",
   "metadata": {},
   "source": [
    "[Towards Data Science](https://towardsdatascience.com/customizing-plots-with-python-matplotlib-bcf02691931f) and [Earth Data Science](https://www.earthdatascience.org/courses/scientists-guide-to-plotting-data-in-python/plot-with-matplotlib/introduction-to-matplotlib-plots/customize-plot-colors-labels-matplotlib/) have good tutorials on customising your plots.\n",
    "\n",
    "[WWW3 Schools](https://www.w3schools.com/python/matplotlib_intro.asp) has a set of tutorials for the different plots you can generate using `matplotlib`."
   ]
  },
  {
   "cell_type": "markdown",
   "id": "2ba923a2",
   "metadata": {},
   "source": [
    "**Combining plots**\n",
    "\n",
    "We can combine multiple different plot types into a single figure. Below is an example of visually exploring the diabetes data set from the Python library `sklearn` (which was imported in the [Imports](#imports) section of this notebook."
   ]
  },
  {
   "cell_type": "code",
   "execution_count": null,
   "id": "f0ef3fae",
   "metadata": {},
   "outputs": [],
   "source": [
    "# load diabetes dataset\n",
    "diabetes = sklearn.datasets.load_diabetes()\n",
    "\n",
    "diabetes_data = diabetes.data\n",
    "\n",
    "fig, ax = subplots(figsize=(21, 10), ncols=3, nrows=2)\n",
    "\n",
    "# Histograms\n",
    "ax[0,0].hist(diabetes_data[:,3], bins=20)\n",
    "ax[0,0].set_ylabel('Count', fontsize=20)\n",
    "\n",
    "ax[0,1].hist(diabetes_data[:,4], bins=20)\n",
    "ax[0,1].set_ylabel('Count', fontsize=20)\n",
    "\n",
    "ax[0,2].hist(diabetes_data[:,5], bins=20)\n",
    "ax[0,2].set_ylabel('Count', fontsize=20)\n",
    "\n",
    "# Scatter plots\n",
    "ax[1,0].scatter(diabetes_data[:,3], diabetes_data[:,4]);\n",
    "ax[1,0].set_xlabel('Column 3', fontsize=20)\n",
    "ax[1,0].set_ylabel('Column 4', fontsize=20)\n",
    "\n",
    "ax[1,1].scatter(diabetes_data[:,4], diabetes_data[:,5]);\n",
    "ax[1,1].set_xlabel('Column 4', fontsize=20)\n",
    "ax[1,1].set_ylabel('Column 5', fontsize=20)\n",
    "\n",
    "ax[1,2].scatter(diabetes_data[:,5], diabetes_data[:,3]);\n",
    "ax[1,2].set_xlabel('Column 5', fontsize=20)\n",
    "ax[1,2].set_ylabel('Column 3', fontsize=20);\n"
   ]
  },
  {
   "cell_type": "markdown",
   "id": "7bd577be",
   "metadata": {},
   "source": [
    "Using `pandas` and `matplotlib` allows us to explore trends in our dataset. In the example above, when plotting the data against each other in pairs (lower row), data column 3 versus column 4 (left) and column 5 versus 3 (right) both show a fairly uniform circular distribution of points. This is what would be expected if the data in the two columns were independent of each other. \n",
    "\n",
    "In contrast, column 4 versus 5 (centre) shows an elliptic, pointed shape along the main diagonal. This shows that something particular goes on between these data sets. Specifically, it indicates that the two variables recorded in these columns (indices 4 and 5) are not independent of each other. They are more similar than would be expected for independent variables. "
   ]
  },
  {
   "cell_type": "markdown",
   "id": "f1ba0829",
   "metadata": {},
   "source": [
    "__Create the histogram of a column__\n",
    "\n",
    "Take the loan data and display the histogram of the loan amount that people asked for. (Loan amounts are divided by 1000, i.e. in k£ on the horizontal axis).  Use e.g. 20 bins. "
   ]
  },
  {
   "cell_type": "code",
   "execution_count": null,
   "id": "bf70111c",
   "metadata": {},
   "outputs": [],
   "source": []
  }
 ],
 "metadata": {
  "kernelspec": {
   "display_name": "Python 3 (ipykernel)",
   "language": "python",
   "name": "python3"
  },
  "language_info": {
   "codemirror_mode": {
    "name": "ipython",
    "version": 3
   },
   "file_extension": ".py",
   "mimetype": "text/x-python",
   "name": "python",
   "nbconvert_exporter": "python",
   "pygments_lexer": "ipython3",
   "version": "3.9.12"
  }
 },
 "nbformat": 4,
 "nbformat_minor": 5
}
