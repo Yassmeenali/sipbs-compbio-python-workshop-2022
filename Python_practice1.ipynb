{
 "cells": [
  {
   "cell_type": "code",
   "execution_count": 8,
   "id": "733dcd8b",
   "metadata": {},
   "outputs": [],
   "source": [
    "import pandas as pd"
   ]
  },
  {
   "cell_type": "code",
   "execution_count": 139,
   "id": "e96283df",
   "metadata": {},
   "outputs": [],
   "source": [
    "data={'species':['p.aeruginosa', 'p.putida', 'p.fluorescence','p.aeruginosa', 'p.putida', 'p.fluorescence'],'HMMER':['GH1(15-44)','GH2(22-66)+BM(12-17)','GH3','GH1(16-30)','GH2(7-10)+BM(20-30)','GH3']}\n",
    "row_labels= [1,2,3,4,5,6]"
   ]
  },
  {
   "cell_type": "code",
   "execution_count": 141,
   "id": "83ae4849",
   "metadata": {},
   "outputs": [
    {
     "data": {
      "text/html": [
       "<div>\n",
       "<style scoped>\n",
       "    .dataframe tbody tr th:only-of-type {\n",
       "        vertical-align: middle;\n",
       "    }\n",
       "\n",
       "    .dataframe tbody tr th {\n",
       "        vertical-align: top;\n",
       "    }\n",
       "\n",
       "    .dataframe thead th {\n",
       "        text-align: right;\n",
       "    }\n",
       "</style>\n",
       "<table border=\"1\" class=\"dataframe\">\n",
       "  <thead>\n",
       "    <tr style=\"text-align: right;\">\n",
       "      <th></th>\n",
       "      <th>species</th>\n",
       "      <th>HMMER</th>\n",
       "    </tr>\n",
       "  </thead>\n",
       "  <tbody>\n",
       "    <tr>\n",
       "      <th>1</th>\n",
       "      <td>p.aeruginosa</td>\n",
       "      <td>GH1(15-44)</td>\n",
       "    </tr>\n",
       "    <tr>\n",
       "      <th>2</th>\n",
       "      <td>p.putida</td>\n",
       "      <td>GH2(22-66)+BM(12-17)</td>\n",
       "    </tr>\n",
       "    <tr>\n",
       "      <th>3</th>\n",
       "      <td>p.fluorescence</td>\n",
       "      <td>GH3</td>\n",
       "    </tr>\n",
       "    <tr>\n",
       "      <th>4</th>\n",
       "      <td>p.aeruginosa</td>\n",
       "      <td>GH1(16-30)</td>\n",
       "    </tr>\n",
       "    <tr>\n",
       "      <th>5</th>\n",
       "      <td>p.putida</td>\n",
       "      <td>GH2(7-10)+BM(20-30)</td>\n",
       "    </tr>\n",
       "    <tr>\n",
       "      <th>6</th>\n",
       "      <td>p.fluorescence</td>\n",
       "      <td>GH3</td>\n",
       "    </tr>\n",
       "  </tbody>\n",
       "</table>\n",
       "</div>"
      ],
      "text/plain": [
       "          species                 HMMER\n",
       "1    p.aeruginosa            GH1(15-44)\n",
       "2        p.putida  GH2(22-66)+BM(12-17)\n",
       "3  p.fluorescence                   GH3\n",
       "4    p.aeruginosa            GH1(16-30)\n",
       "5        p.putida   GH2(7-10)+BM(20-30)\n",
       "6  p.fluorescence                   GH3"
      ]
     },
     "execution_count": 141,
     "metadata": {},
     "output_type": "execute_result"
    }
   ],
   "source": [
    "df = pd.DataFrame(data=data, index=row_labels)\n",
    "df"
   ]
  },
  {
   "cell_type": "code",
   "execution_count": 130,
   "id": "fe31256b",
   "metadata": {},
   "outputs": [],
   "source": [
    "domains='GH1(15-44)'"
   ]
  },
  {
   "cell_type": "code",
   "execution_count": 133,
   "id": "8d747044",
   "metadata": {},
   "outputs": [],
   "source": [
    "sep_domain=domains.split('(')[0]"
   ]
  },
  {
   "cell_type": "code",
   "execution_count": 134,
   "id": "3ee6eb8c",
   "metadata": {},
   "outputs": [
    {
     "data": {
      "text/plain": [
       "'GH1'"
      ]
     },
     "execution_count": 134,
     "metadata": {},
     "output_type": "execute_result"
    }
   ],
   "source": [
    "sep_domain"
   ]
  },
  {
   "cell_type": "code",
   "execution_count": 138,
   "id": "885bdf54",
   "metadata": {},
   "outputs": [],
   "source": [
    "sep_family=domains.split('(')[1]"
   ]
  },
  {
   "cell_type": "code",
   "execution_count": 136,
   "id": "25b0c6b4",
   "metadata": {},
   "outputs": [
    {
     "data": {
      "text/plain": [
       "'15-44)'"
      ]
     },
     "execution_count": 136,
     "metadata": {},
     "output_type": "execute_result"
    }
   ],
   "source": [
    "sep_family"
   ]
  },
  {
   "cell_type": "code",
   "execution_count": 142,
   "id": "8e8bbf58",
   "metadata": {},
   "outputs": [
    {
     "ename": "AttributeError",
     "evalue": "'str' object has no attribute 'append'",
     "output_type": "error",
     "traceback": [
      "\u001b[1;31m---------------------------------------------------------------------------\u001b[0m",
      "\u001b[1;31mAttributeError\u001b[0m                            Traceback (most recent call last)",
      "Input \u001b[1;32mIn [142]\u001b[0m, in \u001b[0;36m<cell line: 1>\u001b[1;34m()\u001b[0m\n\u001b[1;32m----> 1\u001b[0m CAZy_families\u001b[38;5;241m=\u001b[39m\u001b[43msep_domain\u001b[49m\u001b[38;5;241;43m.\u001b[39;49m\u001b[43mappend\u001b[49m(CAZy_fam)\n",
      "\u001b[1;31mAttributeError\u001b[0m: 'str' object has no attribute 'append'"
     ]
    }
   ],
   "source": [
    "CAZy_families=sep_domain.append(CAZy_fam) \n"
   ]
  },
  {
   "cell_type": "markdown",
   "id": "29892a15",
   "metadata": {},
   "source": [
    "notes: 1- explod function wont work cause variables are not seprated by commas, you can't add commas maybe it will effect the original data2-\n",
    "       append is adding data or adding data in the last row.\n",
    "       3- issue to solve: seperating then adding two varibles together. \n",
    "     "
   ]
  },
  {
   "cell_type": "code",
   "execution_count": null,
   "id": "a9cf8098",
   "metadata": {},
   "outputs": [],
   "source": []
  }
 ],
 "metadata": {
  "kernelspec": {
   "display_name": "Python 3 (ipykernel)",
   "language": "python",
   "name": "python3"
  },
  "language_info": {
   "codemirror_mode": {
    "name": "ipython",
    "version": 3
   },
   "file_extension": ".py",
   "mimetype": "text/x-python",
   "name": "python",
   "nbconvert_exporter": "python",
   "pygments_lexer": "ipython3",
   "version": "3.9.12"
  }
 },
 "nbformat": 4,
 "nbformat_minor": 5
}
